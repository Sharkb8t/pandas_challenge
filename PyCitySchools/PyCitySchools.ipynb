{
 "cells": [
  {
   "cell_type": "markdown",
   "id": "d2eee7f0-4890-42e5-863f-f0c2d1f0ee53",
   "metadata": {},
   "source": [
    "# PyCity Schools Analysis\n",
    "- \n",
    "- \n",
    "- \n",
    "\n",
    "---"
   ]
  },
  {
   "cell_type": "code",
   "execution_count": null,
   "id": "137e20d8-7512-464f-9f93-527572bc9e87",
   "metadata": {},
   "outputs": [],
   "source": [
    "# Import Dependencies and Setup\n",
    "import pandas as pd\n",
    "from pathlib import Path\n",
    "\n",
    "# Files to Load (Change files out for deseried analysis in `Resources` folder)\n",
    "school_data_input = Path(\"Resources/schools_complete.csv\")\n",
    "student_data_input = Path(\"Resources/students_complete.csv\")\n",
    "\n",
    "# Read School and Student Data Files and store into Pandas DataFrames\n",
    "school_data = pd.read_csv(school_data_input)\n",
    "student_data = pd.read_csv(student_data_input)\n",
    "\n",
    "# Merge the dataframes into a single dataset.\n",
    "school_data_merged = pd.merge(student_data, school_data, how=\"left\", on=\"school_name\")\n",
    "school_data_merged.head()"
   ]
  },
  {
   "cell_type": "markdown",
   "id": "230bfadb-80d0-4dc5-bd13-767020e28f0d",
   "metadata": {},
   "source": [
    "## District Data Summary"
   ]
  },
  {
   "cell_type": "code",
   "execution_count": null,
   "id": "8d5375ba-67a8-4081-bb36-c9f725122fac",
   "metadata": {},
   "outputs": [],
   "source": [
    "# Count the total number of unique Schools in the merged DataFrame\n",
    "total_schools = school_data_merged[\"school_name\"].nunique()\n",
    "total_schools"
   ]
  },
  {
   "cell_type": "code",
   "execution_count": null,
   "id": "73727a43-2acd-47c5-b256-90fe4db21940",
   "metadata": {},
   "outputs": [],
   "source": [
    "# Count the total number of Students in the merged DataFrame\n",
    "total_students = school_data_merged[\"student_name\"].count()\n",
    "total_students"
   ]
  },
  {
   "cell_type": "code",
   "execution_count": null,
   "id": "ad888364-760f-49e4-bfa4-bf3b11f16447",
   "metadata": {},
   "outputs": [],
   "source": [
    "# Calculate the total School budget in the merged DataFrame\n",
    "total_budget = school_data_merged[\"budget\"].unique().sum()\n",
    "total_budget"
   ]
  },
  {
   "cell_type": "code",
   "execution_count": null,
   "id": "a2c81ca8-cb35-4148-9a86-6bf615c4909a",
   "metadata": {},
   "outputs": [],
   "source": [
    "# Calculate the average/mean math scores in the merged DataFrame\n",
    "avg_math_score = student_data[\"math_score\"].mean()\n",
    "avg_math_score"
   ]
  },
  {
   "cell_type": "code",
   "execution_count": null,
   "id": "b135902b-d616-4315-bf97-18df50bbaee5",
   "metadata": {},
   "outputs": [],
   "source": [
    "# Calculate the average/mean reading scores in the merged DataFrame\n",
    "avg_reading_score = student_data[\"reading_score\"].mean()\n",
    "avg_reading_score"
   ]
  },
  {
   "cell_type": "code",
   "execution_count": null,
   "id": "d636c6a2-592d-47b1-9fbb-585817a1663a",
   "metadata": {},
   "outputs": [],
   "source": [
    "# Calcule the percentage of students that passed math (includes only math scores at or above 70%)\n",
    "number_passed_math = school_data_merged[(school_data_merged[\"math_score\"] >= 70)].count()[\"student_name\"]\n",
    "percent_passed_math = number_passed_math / float(total_students) * 100\n",
    "percent_passed_math"
   ]
  },
  {
   "cell_type": "code",
   "execution_count": null,
   "id": "c7606336-bcbd-431d-9609-50e53df3805a",
   "metadata": {},
   "outputs": [],
   "source": [
    "# Calculate the percentage of students that passed reading (includes only reading scores at or above 70%)\n",
    "number_passed_reading = school_data_merged[(school_data_merged[\"reading_score\"] >= 70)].count()[\"student_name\"]\n",
    "percent_passed_reading = number_passed_reading / float(total_students) * 100\n",
    "percent_passed_reading"
   ]
  },
  {
   "cell_type": "code",
   "execution_count": null,
   "id": "701cf772-c322-41a7-a614-a715d811a1d4",
   "metadata": {},
   "outputs": [],
   "source": [
    "# Calculate the percentage of students that passed both math and reading (includes only math and reading scores at or above 70%)\n",
    "number_passed_math_reading = school_data_merged[\n",
    "    (school_data_merged[\"math_score\"] >=70) & (school_data_merged[\"reading_score\"] >=70)\n",
    "].count()[\"student_name\"]\n",
    "overall_passed_rate = number_passed_math_reading / float(total_students) * 100\n",
    "overall_passed_rate"
   ]
  },
  {
   "cell_type": "code",
   "execution_count": null,
   "id": "01ee7cc3-1534-405a-9d81-0c81d51f5d22",
   "metadata": {},
   "outputs": [],
   "source": [
    "# Generate summary of District key metrics in DataFrame\n",
    "district_summary = pd.DataFrame({\n",
    "    \"Total Schools\": [total_schools],\n",
    "    \"Total Students\": [total_students],\n",
    "    \"Total Budget\": [total_budget],\n",
    "    \"Average Math Score\": [avg_math_score],\n",
    "    \"Average Reading Score\": [avg_reading_score],\n",
    "    \"% Passing Math\": [percent_passed_math],\n",
    "    \"% Passing Reading\": [percent_passed_reading],\n",
    "    \"% Overall Passing\": [overall_passed_rate]\n",
    "})\n",
    "\n",
    "# Format DataFrame values to display in more readable form\n",
    "district_summary[\"Total Students\"] = district_summary[\"Total Students\"].map(\"{:,}\".format)\n",
    "district_summary[\"Total Budget\"] = district_summary[\"Total Budget\"].map(\"${:,.2f}\".format)\n",
    "district_summary[\"Average Math Score\"] = district_summary[\"Average Math Score\"].map(\"{:.2f}\".format)\n",
    "district_summary[\"Average Reading Score\"] = district_summary[\"Average Reading Score\"].map(\"{:.2f}\".format)\n",
    "district_summary[\"% Passing Math\"] = district_summary[\"% Passing Math\"].map(\"{:.2f}\".format)\n",
    "district_summary[\"% Passing Reading\"] = district_summary[\"% Passing Reading\"].map(\"{:.2f}\".format)\n",
    "district_summary[\"% Overall Passing\"] = district_summary[\"% Overall Passing\"].map(\"{:.2f}\".format)\n",
    "\n",
    "# Display formated DataFrame\n",
    "district_summary"
   ]
  },
  {
   "cell_type": "markdown",
   "id": "8a3b048c-06de-46a7-84d6-79edcca4312f",
   "metadata": {},
   "source": [
    "## School Data Summary"
   ]
  },
  {
   "cell_type": "code",
   "execution_count": null,
   "id": "795ab7e9-6dcf-4bfc-863d-685f1b0e56b5",
   "metadata": {},
   "outputs": [],
   "source": [
    "# Filter merged DataFrame to associate \"school_name\" column with type \"column\" for unique values only\n",
    "school_types = school_data_merged.drop_duplicates(subset=\"school_name\").set_index([\"school_name\"])[\"type\"]\n",
    "school_types"
   ]
  },
  {
   "cell_type": "code",
   "execution_count": null,
   "id": "931b8906-dd01-41c4-bab6-c60ab582fd66",
   "metadata": {},
   "outputs": [],
   "source": [
    "# Calculate the total student count per school from merged DataFrame for unique values only\n",
    "per_school_counts = school_data_merged.drop_duplicates(subset=\"school_name\").set_index([\"school_name\"])[\"size\"]\n",
    "per_school_counts"
   ]
  },
  {
   "cell_type": "code",
   "execution_count": null,
   "id": "b05e742e-b7d6-414b-b476-f9d2bd662a83",
   "metadata": {},
   "outputs": [],
   "source": [
    "# Calculate the total school budget and per capita spending per school from merged DataFrame for unique values only\n",
    "per_school_budget = school_data_merged.drop_duplicates(subset=\"school_name\").set_index([\"school_name\"])[\"budget\"]\n",
    "per_school_capita = per_school_budget / per_school_counts\n",
    "per_school_capita"
   ]
  },
  {
   "cell_type": "code",
   "execution_count": null,
   "id": "7db543c4-1095-47b6-af25-2ad91e207c62",
   "metadata": {},
   "outputs": [],
   "source": [
    "# Calculate average test scores for math and reading from merged DataFrame\n",
    "per_school_math = school_data_merged.groupby(\"school_name\")[\"math_score\"].mean()\n",
    "per_school_reading = school_data_merged.groupby(\"school_name\")[\"reading_score\"].mean()"
   ]
  },
  {
   "cell_type": "code",
   "execution_count": null,
   "id": "95760d28-fa16-4989-b02c-c481c3d8262a",
   "metadata": {},
   "outputs": [],
   "source": [
    "per_school_math"
   ]
  },
  {
   "cell_type": "code",
   "execution_count": null,
   "id": "9ec0dc60-69d5-479b-9b72-896e19449957",
   "metadata": {},
   "outputs": [],
   "source": [
    "per_school_reading"
   ]
  },
  {
   "cell_type": "code",
   "execution_count": null,
   "id": "9869a86b-2aad-49f8-ac8a-614b56ca5d9b",
   "metadata": {},
   "outputs": [],
   "source": [
    "# Calculate number of students with passing math scores (at or above 70%) per school\n",
    "students_passing_math = school_data_merged[school_data_merged[\"math_score\"] >= 70]\n",
    "school_students_passing_math = students_passing_math.groupby([\"school_name\"]).size()\n",
    "school_students_passing_math"
   ]
  },
  {
   "cell_type": "code",
   "execution_count": null,
   "id": "745a2b2b-8c5a-4b89-adf1-bfaaad11a838",
   "metadata": {},
   "outputs": [],
   "source": [
    "# Calculate number of students with passing reading scores (at or above 70%) per school\n",
    "students_passing_reading = school_data_merged[school_data_merged[\"reading_score\"] >= 70]\n",
    "school_students_passing_reading = students_passing_reading.groupby([\"school_name\"]).size()\n",
    "school_students_passing_reading"
   ]
  },
  {
   "cell_type": "code",
   "execution_count": null,
   "id": "8ad6d419-7c1d-4437-8eaa-a9cf27917970",
   "metadata": {},
   "outputs": [],
   "source": [
    "# Calculate number of students with passing both math and reading scores (at or above 70%) per school\n",
    "students_passing_math_reading = school_data_merged[\n",
    "    (school_data_merged[\"reading_score\"] >= 70) & (school_data_merged[\"math_score\"] >= 70)\n",
    "]\n",
    "school_students_passing_math_reading = students_passing_math_reading.groupby([\"school_name\"]).size()\n",
    "students_passing_math_reading"
   ]
  },
  {
   "cell_type": "code",
   "execution_count": null,
   "id": "c74a0f0a-5460-4cc6-b91b-2e213805cf28",
   "metadata": {},
   "outputs": [],
   "source": [
    "# Calculate the passing rates per school\n",
    "per_school_passing_math = (school_students_passing_math / per_school_counts) * 100\n",
    "per_school_passing_reading = (school_students_passing_reading / per_school_counts) * 100\n",
    "overall_passing_rate = (school_students_passing_math_reading / per_school_counts) * 100\n",
    "overall_passing_rate"
   ]
  },
  {
   "cell_type": "code",
   "execution_count": null,
   "id": "1d4dfc5b-3a44-4259-b024-46bfa279b793",
   "metadata": {},
   "outputs": [],
   "source": [
    "# Generate a DataFrame called `per_school_summary` with columns for the above calculations\n",
    "per_school_summary = pd.DataFrame({\n",
    "    \"School Type\": school_types,\n",
    "    \"Total Students\": per_school_counts,\n",
    "    \"Total School Budget\": per_school_budget,\n",
    "    \"Per Student Budget\": per_school_capita,\n",
    "    \"Average Math Score\": per_school_math,\n",
    "    \"Average Reading Score\": per_school_reading,\n",
    "    \"% Passing Math\": per_school_passing_math,\n",
    "    \"% Passing Reading\": per_school_passing_reading,\n",
    "    \"% Overall Passing\": overall_passing_rate\n",
    "})\n",
    "\n",
    "# Formatting of DataFrame values to improve readability\n",
    "per_school_summary[\"Total Students\"] = per_school_summary[\"Total Students\"].map(\"{:,}\".format)\n",
    "per_school_summary[\"Total School Budget\"] = per_school_summary[\"Total School Budget\"].map(\"${:,.2f}\".format)\n",
    "per_school_summary[\"Per Student Budget\"] = per_school_summary[\"Per Student Budget\"].map(\"${:,.2f}\".format)\n",
    "per_school_summary[\"Average Math Score\"] = per_school_summary[\"Average Math Score\"].map(\"{:.2f}\".format)\n",
    "per_school_summary[\"Average Reading Score\"] = per_school_summary[\"Average Reading Score\"].map(\"{:.2f}\".format)\n",
    "per_school_summary[\"% Passing Math\"] = per_school_summary[\"% Passing Math\"].map(\"{:.2f}\".format)\n",
    "per_school_summary[\"% Passing Reading\"] = per_school_summary[\"% Passing Reading\"].map(\"{:.2f}\".format)\n",
    "per_school_summary[\"% Overall Passing\"] = per_school_summary[\"% Overall Passing\"].map(\"{:.2f}\".format)\n",
    "\n",
    "# Display the DataFrame\n",
    "per_school_summary"
   ]
  },
  {
   "cell_type": "markdown",
   "id": "0bc265f4-97de-418f-8afe-1ae5c1f84842",
   "metadata": {},
   "source": [
    "## Highest-Performing Schools (By % Overall Passing)"
   ]
  },
  {
   "cell_type": "code",
   "execution_count": null,
   "id": "e7990656-42ba-4d3c-afc6-ec28f22ce196",
   "metadata": {},
   "outputs": [],
   "source": [
    "# Top-performing schools sorted by highest \"% Overall Passing\" values\n",
    "top_schools = per_school_summary.sort_values(\"% Overall Passing\", ascending=False)\n",
    "top_schools.head(5)"
   ]
  },
  {
   "cell_type": "markdown",
   "id": "0bdf201d-1153-4ea8-a6ba-aa8bfaf81315",
   "metadata": {},
   "source": [
    "## Bottom Performing Schools (By % Overall Passing)"
   ]
  },
  {
   "cell_type": "code",
   "execution_count": null,
   "id": "eb75316c-a62a-45fa-9879-ac2a533c98ee",
   "metadata": {},
   "outputs": [],
   "source": [
    "# Bottom-performing schools sorted by lowest \"% Overall Passing\" values\n",
    "bottom_schools = per_school_summary.sort_values(\"% Overall Passing\", ascending=True)\n",
    "bottom_schools.head(5)"
   ]
  },
  {
   "cell_type": "markdown",
   "id": "6c582d6d-4a1d-42c6-98a4-698119ffab5a",
   "metadata": {},
   "source": [
    "## Math Scores by Grade"
   ]
  },
  {
   "cell_type": "code",
   "execution_count": null,
   "id": "67851761-928e-44a6-b308-41dd99e291d1",
   "metadata": {},
   "outputs": [],
   "source": [
    "# Use the code provided to separate the data by grade\n",
    "ninth_graders = school_data_merged[(school_data_merged[\"grade\"] == \"9th\")]\n",
    "tenth_graders = school_data_merged[(school_data_merged[\"grade\"] == \"10th\")]\n",
    "eleventh_graders = school_data_merged[(school_data_merged[\"grade\"] == \"11th\")]\n",
    "twelfth_graders = school_data_merged[(school_data_merged[\"grade\"] == \"12th\")]\n",
    "\n",
    "# Group by `school_name` and take the mean of the `math_score` column for each.\n",
    "ninth_grader_math_scores = ninth_graders.groupby(\"school_name\")[\"math_score\"].mean()\n",
    "tenth_grader_math_scores = tenth_graders.groupby(\"school_name\")[\"math_score\"].mean()\n",
    "eleventh_grader_math_scores = eleventh_graders.groupby(\"school_name\")[\"math_score\"].mean()\n",
    "twelfth_grader_math_scores = twelfth_graders.groupby(\"school_name\")[\"math_score\"].mean()\n",
    "\n",
    "# Combine each of the scores above into single DataFrame called `math_scores_by_grade`\n",
    "math_scores_by_grade = pd.DataFrame({\n",
    "    \"9th\": ninth_grader_math_scores,\n",
    "    \"10th\": tenth_grader_math_scores,\n",
    "    \"11th\": eleventh_grader_math_scores,\n",
    "    \"12th\": twelfth_grader_math_scores\n",
    "})\n",
    "\n",
    "# Minor data wrangling\n",
    "math_scores_by_grade.index.name = None\n",
    "\n",
    "# Format columns to improve readability\n",
    "math_scores_by_grade[\"9th\"] = math_scores_by_grade[\"9th\"].map(\"{:.2f}\".format)\n",
    "math_scores_by_grade[\"10th\"] = math_scores_by_grade[\"10th\"].map(\"{:.2f}\".format)\n",
    "math_scores_by_grade[\"11th\"] = math_scores_by_grade[\"11th\"].map(\"{:.2f}\".format)\n",
    "math_scores_by_grade[\"12th\"] = math_scores_by_grade[\"12th\"].map(\"{:.2f}\".format)\n",
    "\n",
    "# Display the DataFrame\n",
    "math_scores_by_grade"
   ]
  },
  {
   "cell_type": "markdown",
   "id": "33adf0c7-10a7-41c9-842e-498f0ece3683",
   "metadata": {},
   "source": [
    "## Reading Scores by Grade"
   ]
  },
  {
   "cell_type": "code",
   "execution_count": null,
   "id": "67bb1d21-f82f-4a27-9a17-7528164c8de5",
   "metadata": {},
   "outputs": [],
   "source": [
    "# Use the code provided to separate the data by grade\n",
    "ninth_graders = school_data_merged[(school_data_merged[\"grade\"] == \"9th\")]\n",
    "tenth_graders = school_data_merged[(school_data_merged[\"grade\"] == \"10th\")]\n",
    "eleventh_graders = school_data_merged[(school_data_merged[\"grade\"] == \"11th\")]\n",
    "twelfth_graders = school_data_merged[(school_data_merged[\"grade\"] == \"12th\")]\n",
    "\n",
    "# Group by `school_name` and take the mean of the `math_score` column for each.\n",
    "ninth_grader_reading_scores = ninth_graders.groupby(\"school_name\")[\"reading_score\"].mean()\n",
    "tenth_grader_reading_scores = tenth_graders.groupby(\"school_name\")[\"reading_score\"].mean()\n",
    "eleventh_grader_reading_scores = eleventh_graders.groupby(\"school_name\")[\"reading_score\"].mean()\n",
    "twelfth_grader_reading_scores = twelfth_graders.groupby(\"school_name\")[\"reading_score\"].mean()\n",
    "\n",
    "# Combine each of the scores above into single DataFrame called `math_scores_by_grade`\n",
    "reading_scores_by_grade = pd.DataFrame({\n",
    "    \"9th\": ninth_grader_reading_scores,\n",
    "    \"10th\": tenth_grader_reading_scores,\n",
    "    \"11th\": eleventh_grader_reading_scores,\n",
    "    \"12th\": twelfth_grader_reading_scores\n",
    "})\n",
    "\n",
    "# Minor data wrangling\n",
    "reading_scores_by_grade.index.name = None\n",
    "\n",
    "# Format columns to improve readability\n",
    "reading_scores_by_grade[\"9th\"] = reading_scores_by_grade[\"9th\"].map(\"{:.2f}\".format)\n",
    "reading_scores_by_grade[\"10th\"] = reading_scores_by_grade[\"10th\"].map(\"{:.2f}\".format)\n",
    "reading_scores_by_grade[\"11th\"] = reading_scores_by_grade[\"11th\"].map(\"{:.2f}\".format)\n",
    "reading_scores_by_grade[\"12th\"] = reading_scores_by_grade[\"12th\"].map(\"{:.2f}\".format)\n",
    "\n",
    "# Display the DataFrame\n",
    "reading_scores_by_grade"
   ]
  },
  {
   "cell_type": "markdown",
   "id": "f6f3d809-ffdc-4e91-bed4-35d8a0fd7cf7",
   "metadata": {},
   "source": [
    "## Scores by School Spending"
   ]
  },
  {
   "cell_type": "code",
   "execution_count": null,
   "id": "61d33984-ddd2-41af-968c-46632c71b651",
   "metadata": {},
   "outputs": [],
   "source": [
    "# Establish the bins for school spending\n",
    "spending_bins = [0, 585, 630, 645, 680]\n",
    "labels = [\"<$585\", \"$585-630\", \"$630-645\", \"$645-680\"]"
   ]
  },
  {
   "cell_type": "code",
   "execution_count": null,
   "id": "67e1f549-813c-4840-8f8e-014a11e09ea7",
   "metadata": {},
   "outputs": [],
   "source": [
    "# Create a copy of the School Summary DataFrame\n",
    "school_spending_df = per_school_summary.copy()"
   ]
  },
  {
   "cell_type": "code",
   "execution_count": null,
   "id": "32247bf2-12f7-4519-b518-840e4d909a64",
   "metadata": {},
   "outputs": [],
   "source": [
    "# Convert \"Per Student Budget\" back to numeric (remove $ and , before conversion)\n",
    "school_spending_df[\"Per Student Budget\"] = school_spending_df[\"Per Student Budget\"].replace(\n",
    "    {\"\\\\$\": \"\", \",\": \"\"}, regex=True).astype(float)\n",
    "\n",
    "# Categorize spending per student using pd.cut based on established bins\n",
    "school_spending_df[\"Spending Ranges (Per Student)\"] = pd.cut(\n",
    "    school_spending_df[\"Per Student Budget\"], bins=spending_bins, labels=labels\n",
    ")\n",
    "\n",
    "# Convert \"Spending Ranges (Per Student)\" to a string value\n",
    "school_spending_df[\"Spending Ranges (Per Student)\"] = school_spending_df[\"Spending Ranges (Per Student)\"].astype(str)\n",
    "\n",
    "# Reformat \"Per Student Budget\" column to include $ and comma symbols\n",
    "school_spending_df[\"Per Student Budget\"] = school_spending_df[\"Per Student Budget\"].map(\"${:,.2f}\".format)\n",
    "\n",
    "# Display new DataFrame\n",
    "school_spending_df"
   ]
  },
  {
   "cell_type": "code",
   "execution_count": null,
   "id": "931c7b6f-0418-4dfc-9dfa-0440a3b921cc",
   "metadata": {},
   "outputs": [],
   "source": [
    "# Convert formatted columns back to numeric for calculations\n",
    "school_spending_df[\"Average Math Score\"] = pd.to_numeric(school_spending_df[\"Average Math Score\"], errors=\"coerce\")\n",
    "school_spending_df[\"Average Reading Score\"] = pd.to_numeric(school_spending_df[\"Average Reading Score\"], errors=\"coerce\")\n",
    "school_spending_df[\"% Passing Math\"] = pd.to_numeric(school_spending_df[\"% Passing Math\"], errors=\"coerce\")\n",
    "school_spending_df[\"% Passing Reading\"] = pd.to_numeric(school_spending_df[\"% Passing Reading\"], errors=\"coerce\")\n",
    "school_spending_df[\"% Overall Passing\"] = pd.to_numeric(school_spending_df[\"% Overall Passing\"], errors=\"coerce\")\n",
    "\n",
    "# Now perform the groupby operation\n",
    "spending_math_scores = school_spending_df.groupby(\"Spending Ranges (Per Student)\")[\"Average Math Score\"].mean()\n",
    "spending_reading_scores = school_spending_df.groupby(\"Spending Ranges (Per Student)\")[\"Average Reading Score\"].mean()\n",
    "spending_passing_math = school_spending_df.groupby(\"Spending Ranges (Per Student)\")[\"% Passing Math\"].mean()\n",
    "spending_passing_reading = school_spending_df.groupby(\"Spending Ranges (Per Student)\")[\"% Passing Reading\"].mean()\n",
    "overall_passing_spending = school_spending_df.groupby(\"Spending Ranges (Per Student)\")[\"% Overall Passing\"].mean()"
   ]
  },
  {
   "cell_type": "code",
   "execution_count": null,
   "id": "22b927c9-0a57-45e8-bfe1-9806dbd6484a",
   "metadata": {},
   "outputs": [],
   "source": [
    "# Assemble calculations into new DataFrame\n",
    "spending_summary = pd.DataFrame({\n",
    "    \"Average Math Score\": spending_math_scores,\n",
    "    \"Average Reading Score\": spending_reading_scores,\n",
    "    \"% Passing Math\": spending_passing_math,\n",
    "    \"% Passing Reading\": spending_passing_reading,\n",
    "    \"% Overall Passing\": overall_passing_spending\n",
    "})\n",
    "\n",
    "# Format columns of new DataFrame to increase readability\n",
    "spending_summary[\"Average Math Score\"] = spending_summary[\"Average Math Score\"].map(\"{:.2f}\".format)\n",
    "spending_summary[\"Average Reading Score\"] = spending_summary[\"Average Reading Score\"].map(\"{:.2f}\".format)\n",
    "spending_summary[\"% Passing Math\"] = spending_summary[\"% Passing Math\"].map(\"{:.2f}\".format)\n",
    "spending_summary[\"% Passing Reading\"] = spending_summary[\"% Passing Reading\"].map(\"{:.2f}\".format)\n",
    "spending_summary[\"% Overall Passing\"] = spending_summary[\"% Overall Passing\"].map(\"{:.2f}\".format)\n",
    "\n",
    "# Display resulting DataFrame\n",
    "spending_summary"
   ]
  },
  {
   "cell_type": "markdown",
   "id": "18ab2e73-0669-4a77-b774-3db2c9d98675",
   "metadata": {},
   "source": [
    "## Scores by School Size"
   ]
  },
  {
   "cell_type": "code",
   "execution_count": null,
   "id": "b02ec9b8-5367-45e5-b354-13b518e05e9c",
   "metadata": {},
   "outputs": [],
   "source": [
    "# Establish the bins.\n",
    "size_bins = [0, 1000, 2000, 5000]\n",
    "labels = [\"Small (<1000)\", \"Medium (1000-2000)\", \"Large (2000-5000)\"]"
   ]
  },
  {
   "cell_type": "code",
   "execution_count": null,
   "id": "4c00a5a2-8052-4de2-b058-f73ec90cd3b1",
   "metadata": {},
   "outputs": [],
   "source": [
    "# Copy of the per_school_summary for later aggregations\n",
    "school_size_df = per_school_summary.copy()"
   ]
  },
  {
   "cell_type": "code",
   "execution_count": null,
   "id": "d0b7972a-6bba-474e-84cf-70dc13fc2b9a",
   "metadata": {},
   "outputs": [],
   "source": [
    "# Convert \"Total Students\" back to numeric for binning\n",
    "school_size_df[\"Total Students\"] = school_size_df[\"Total Students\"].replace(\n",
    "    {\",\": \"\"}, regex=True).astype(int)\n",
    "\n",
    "# Categorize schools into size bins\n",
    "school_size_df[\"School Size\"] = pd.cut(\n",
    "    school_size_df[\"Total Students\"], bins=size_bins, labels=labels\n",
    ")\n",
    "\n",
    "# Convert \"School Size\" to string\n",
    "school_size_df[\"School Size\"] = school_size_df[\"School Size\"].astype(str)\n",
    "\n",
    "# Display the updated DataFrame\n",
    "school_size_df"
   ]
  },
  {
   "cell_type": "code",
   "execution_count": null,
   "id": "bf9d6667-df90-4356-b7b7-a4b6e2e36ea8",
   "metadata": {},
   "outputs": [],
   "source": [
    "# Convert formatted columns back to numeric for calculations\n",
    "school_size_df[\"Average Math Score\"] = pd.to_numeric(school_size_df[\"Average Math Score\"], errors=\"coerce\")\n",
    "school_size_df[\"Average Reading Score\"] = pd.to_numeric(school_size_df[\"Average Reading Score\"], errors=\"coerce\")\n",
    "school_size_df[\"% Passing Math\"] = pd.to_numeric(school_size_df[\"% Passing Math\"], errors=\"coerce\")\n",
    "school_size_df[\"% Passing Reading\"] = pd.to_numeric(school_size_df[\"% Passing Reading\"], errors=\"coerce\")\n",
    "school_size_df[\"% Overall Passing\"] = pd.to_numeric(school_size_df[\"% Overall Passing\"], errors=\"coerce\")\n",
    "\n",
    "# Now perform the groupby operation \n",
    "# Group the per_school_summary DataFrame by \"School Type\" and average the results.\n",
    "size_math_scores = school_size_df.groupby([\"School Size\"])[\"Average Math Score\"].mean()\n",
    "size_reading_scores = school_size_df.groupby([\"School Size\"])[\"Average Reading Score\"].mean()\n",
    "size_passing_math = school_size_df.groupby([\"School Size\"])[\"% Passing Math\"].mean()\n",
    "size_passing_reading = school_size_df.groupby([\"School Size\"])[\"% Passing Reading\"].mean()\n",
    "size_overall_passing = school_size_df.groupby([\"School Size\"])[\"% Overall Passing\"].mean()"
   ]
  },
  {
   "cell_type": "code",
   "execution_count": null,
   "id": "550a5d32-a7f2-4687-a2f5-8c02f2c85928",
   "metadata": {},
   "outputs": [],
   "source": [
    "# Create a DataFrame called `size_summary` that breaks down school performance based on school size (small, medium, or large).\n",
    "size_summary = pd.DataFrame({\n",
    "    \"Average Math Score\": size_math_scores,\n",
    "    \"Average Reading Score\": size_reading_scores,\n",
    "    \"% Passing Math\": size_passing_math,\n",
    "    \"% Passing Reading\": size_passing_reading,\n",
    "    \"% Overall Passing\": size_overall_passing\n",
    "})\n",
    "\n",
    "# Reformat columns to improve readability of values\n",
    "size_summary[\"Average Math Score\"] = size_summary[\"Average Math Score\"].map(\"{:.2f}\".format)\n",
    "size_summary[\"Average Reading Score\"] = size_summary[\"Average Reading Score\"].map(\"{:.2f}\".format)\n",
    "size_summary[\"% Passing Math\"] = size_summary[\"% Passing Math\"].map(\"{:.2f}\".format)\n",
    "size_summary[\"% Passing Reading\"] = size_summary[\"% Passing Reading\"].map(\"{:.2f}\".format)\n",
    "size_summary[\"% Overall Passing\"] = size_summary[\"% Overall Passing\"].map(\"{:.2f}\".format)\n",
    "\n",
    "# Display results\n",
    "size_summary"
   ]
  },
  {
   "cell_type": "markdown",
   "id": "f966c7a4-e680-4849-9c77-056a04542043",
   "metadata": {},
   "source": [
    "## Scores by School Type"
   ]
  },
  {
   "cell_type": "code",
   "execution_count": null,
   "id": "d7edefc6-a5e0-457c-877a-f3d46ef38194",
   "metadata": {},
   "outputs": [],
   "source": [
    "# Convert formatted columns back to numeric for calculations\n",
    "per_school_summary[\"Average Math Score\"] = pd.to_numeric(per_school_summary[\"Average Math Score\"], errors=\"coerce\")\n",
    "per_school_summary[\"Average Reading Score\"] = pd.to_numeric(per_school_summary[\"Average Reading Score\"], errors=\"coerce\")\n",
    "per_school_summary[\"% Passing Math\"] = pd.to_numeric(per_school_summary[\"% Passing Math\"], errors=\"coerce\")\n",
    "per_school_summary[\"% Passing Reading\"] = pd.to_numeric(per_school_summary[\"% Passing Reading\"], errors=\"coerce\")\n",
    "per_school_summary[\"% Overall Passing\"] = pd.to_numeric(per_school_summary[\"% Overall Passing\"], errors=\"coerce\")\n",
    "\n",
    "# Group the per_school_summary DataFrame columns by \"School Type\" and average the results.\n",
    "type_math_scores = per_school_summary.groupby(\"School Type\")[\"Average Math Score\"].mean()\n",
    "type_reading_scores = per_school_summary.groupby(\"School Type\")[\"Average Reading Score\"].mean()\n",
    "type_passing_math = per_school_summary.groupby(\"School Type\")[\"% Passing Math\"].mean()\n",
    "type_passing_reading = per_school_summary.groupby(\"School Type\")[\"% Passing Reading\"].mean()\n",
    "type_overall_passing = per_school_summary.groupby(\"School Type\")[\"% Overall Passing\"].mean()"
   ]
  },
  {
   "cell_type": "code",
   "execution_count": null,
   "id": "f0383167-49a0-4e65-80c6-49296cb27977",
   "metadata": {},
   "outputs": [],
   "source": [
    "# Create school type_summary DataFrame\n",
    "type_summary = pd.DataFrame({\n",
    "    \"Average Math Score\": type_math_scores,\n",
    "    \"Average Reading Score\": type_reading_scores,\n",
    "    \"% Passing Math\": type_passing_math,\n",
    "    \"% Passing Reading\": type_passing_reading,\n",
    "    \"% Overall Passing\": type_overall_passing\n",
    "})\n",
    "\n",
    "# Reformat columns to improve readability\n",
    "type_summary[\"Average Math Score\"] = type_summary[\"Average Math Score\"].map(\"{:.2f}\".format)\n",
    "type_summary[\"Average Reading Score\"] = type_summary[\"Average Reading Score\"].map(\"{:.2f}\".format)\n",
    "type_summary[\"% Passing Math\"] = type_summary[\"% Passing Math\"].map(\"{:.2f}\".format)\n",
    "type_summary[\"% Passing Reading\"] = type_summary[\"% Passing Reading\"].map(\"{:.2f}\".format)\n",
    "type_summary[\"% Overall Passing\"] = type_summary[\"% Overall Passing\"].map(\"{:.2f}\".format)\n",
    "\n",
    "# Print new DataFrame\n",
    "type_summary"
   ]
  },
  {
   "cell_type": "code",
   "execution_count": null,
   "id": "3d72a55c-368e-4535-9c98-7f1f84535d8a",
   "metadata": {},
   "outputs": [],
   "source": []
  }
 ],
 "metadata": {
  "kernelspec": {
   "display_name": "Python 3 (ipykernel)",
   "language": "python",
   "name": "python3"
  },
  "language_info": {
   "codemirror_mode": {
    "name": "ipython",
    "version": 3
   },
   "file_extension": ".py",
   "mimetype": "text/x-python",
   "name": "python",
   "nbconvert_exporter": "python",
   "pygments_lexer": "ipython3",
   "version": "3.12.7"
  }
 },
 "nbformat": 4,
 "nbformat_minor": 5
}
